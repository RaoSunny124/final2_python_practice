{
 "cells": [
  {
   "cell_type": "code",
   "execution_count": 1,
   "metadata": {},
   "outputs": [],
   "source": [
    "# print('Hello world')"
   ]
  },
  {
   "cell_type": "code",
   "execution_count": 2,
   "metadata": {},
   "outputs": [],
   "source": [
    "# name = f'My name is Hassan.'\n",
    "# age = f'\\n\\tMy age is 19.'\n",
    "# print(name , age)"
   ]
  },
  {
   "cell_type": "code",
   "execution_count": 3,
   "metadata": {},
   "outputs": [],
   "source": [
    "# num = 12"
   ]
  },
  {
   "cell_type": "code",
   "execution_count": 4,
   "metadata": {},
   "outputs": [],
   "source": [
    "# class Student():\n",
    "#     def __init__(self ,name , age , subjects):\n",
    "#         self.name = name\n",
    "#         self.age = age\n",
    "#         self.subjects = subjects\n",
    "#         if subjects == 'science'.lower():\n",
    "#             print('excellent')\n",
    "#         else:\n",
    "#             print('Good')       \n",
    "        \n",
    "#     def writing(self, write):\n",
    "#         print(f'{self.name} is writing {write}.')\n",
    "\n",
    "#     def playing(self , play):\n",
    "#         print(f'{self.name} is playing {play}.')    \n",
    "\n",
    "#     def running(self , speed):\n",
    "#         print(f'{self.name} running speed is {speed}.')           "
   ]
  },
  {
   "cell_type": "code",
   "execution_count": 5,
   "metadata": {},
   "outputs": [],
   "source": [
    "# student1 = Student('Hassan' , 19 , 'science')\n",
    "# student1.name = 'Sherry'\n",
    "# print(student1.name)\n",
    "# print(student1.age)\n",
    "# print(student1.subjects)\n",
    "# student1.playing('badminten')\n",
    "# student1.writing('eassy')\n",
    "# student1.running('5cm')\n",
    "# print()\n",
    "# student2 = Student('Ashraf' , 18 , 'Arts')\n",
    "# print(student2.name)\n",
    "# print(student2.age)\n",
    "# print(student2.subjects)\n",
    "# student2.playing('circket')\n",
    "# student2.writing('story')\n",
    "# student2.running('6cm')"
   ]
  },
  {
   "cell_type": "code",
   "execution_count": 6,
   "metadata": {},
   "outputs": [],
   "source": [
    "# List = [1, 2, 3, 4, 5, 6, 7, 8, 9]\n",
    "# List.append(10)\n",
    "# print(List)"
   ]
  },
  {
   "cell_type": "code",
   "execution_count": 7,
   "metadata": {},
   "outputs": [],
   "source": [
    "# class Student_list:\n",
    "#     def __init__(self):\n",
    "#         self.student = []\n",
    "\n",
    "#     def add_student(self , name):\n",
    "#         self.student.append(name) \n",
    "#         return f'Student {name} add in the list.'\n",
    "\n",
    "#     def remove_student(self , name):\n",
    "#         self.student.remove(name)\n",
    "#         return f'Student {name} remove in the list.'\n",
    "\n",
    "#     def display_student(self):\n",
    "#         if not self.student:\n",
    "#             print(\"No students in the list.\")\n",
    "#         else:\n",
    "#             print(\"Students in the list:\")\n",
    "#             for index, name in enumerate(self.student, start=1):\n",
    "#                 print(f\"{index}. {name}\")               \n"
   ]
  },
  {
   "cell_type": "code",
   "execution_count": 8,
   "metadata": {},
   "outputs": [],
   "source": [
    "# student = Student_list()\n",
    "# student.add_student(\"hassan\")\n",
    "# student.add_student('ALI')\n",
    "# student.add_student('Sherry')\n",
    "# student.add_student('Saim')\n",
    "# student.display_student()"
   ]
  },
  {
   "cell_type": "code",
   "execution_count": 9,
   "metadata": {},
   "outputs": [],
   "source": [
    "# student.remove_student('ALI')\n",
    "# student.display_student()"
   ]
  },
  {
   "cell_type": "code",
   "execution_count": 10,
   "metadata": {},
   "outputs": [],
   "source": [
    "# student.remove_student('Saim')\n",
    "# student.display_student()"
   ]
  },
  {
   "cell_type": "code",
   "execution_count": 11,
   "metadata": {},
   "outputs": [],
   "source": [
    "# student.add_student('ALina')\n",
    "# student.display_student()"
   ]
  },
  {
   "cell_type": "code",
   "execution_count": 4,
   "metadata": {},
   "outputs": [
    {
     "name": "stdout",
     "output_type": "stream",
     "text": [
      "0\n",
      "1\n",
      "2\n",
      "3\n",
      "4\n"
     ]
    }
   ],
   "source": [
    "round = 0\n",
    "while round < 5:\n",
    "    print(round)\n",
    "    round += 1\n"
   ]
  },
  {
   "cell_type": "code",
   "execution_count": null,
   "metadata": {},
   "outputs": [],
   "source": []
  }
 ],
 "metadata": {
  "kernelspec": {
   "display_name": "Python 3",
   "language": "python",
   "name": "python3"
  },
  "language_info": {
   "codemirror_mode": {
    "name": "ipython",
    "version": 3
   },
   "file_extension": ".py",
   "mimetype": "text/x-python",
   "name": "python",
   "nbconvert_exporter": "python",
   "pygments_lexer": "ipython3",
   "version": "3.12.4"
  }
 },
 "nbformat": 4,
 "nbformat_minor": 2
}
